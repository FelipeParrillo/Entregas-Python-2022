{
 "cells": [
  {
   "cell_type": "markdown",
   "id": "b015a19f",
   "metadata": {},
   "source": [
    "# Actividad 1 por Python plus\n"
   ]
  },
  {
   "cell_type": "markdown",
   "id": "b0d0ad1d",
   "metadata": {},
   "source": [
    "## Parte I: resolvé el siguiente desafío:"
   ]
  },
  {
   "cell_type": "markdown",
   "id": "304b9643",
   "metadata": {},
   "source": [
    "EJERCICIO 10: dado el archivo denominado [BBB_nuevo.csv](https://archivos.linti.unlp.edu.ar/index.php/s/q9b3rCrlhOS1yWU) que contiene los accesos al recurso BigBlueButton que usamos para las clases virtuales de la materia, se desea generar una archivo con todos aquellos usuarios que se conectaron a la teoría (Evento: Actividad BigBlueButtonBN visualizada) y luego visualizaron la grabación (Evento: \"Grabación vista\")."
   ]
  },
  {
   "cell_type": "code",
   "execution_count": 1,
   "id": "5021bb7c",
   "metadata": {},
   "outputs": [],
   "source": [
    "def main():\n",
    "    import csv\n",
    "    import openpyxl\n",
    "\n",
    "    ruta_archivo = 'Python-Actividades\\Entregas-Python-2022\\EjercicioEntregar\\BBB_nuevo.csv'\n",
    "    archivoBBB = open(ruta_archivo, \"r\", encoding='utf8')\n",
    "    csvreader = csv.reader(archivoBBB, delimiter=',')\n",
    "    encabezado = next(csvreader)\n",
    "\n",
    "    #_Functions_#\n",
    "    def Filtrar():\n",
    "        '''Retorna una lista con los datos de los usuarios que vieron una clase y reprodujeron una grabación'''\n",
    "        lista_verificada = []\n",
    "        lista_grabacion = []\n",
    "        lista_visualizada = []\n",
    "        lista_usuarios = []\n",
    "        # Agrego por IP a la lista correspondiente segun la \"Actividad\" hecha\n",
    "        for linea in csvreader:\n",
    "            if linea[2] == 'Actividad BigBlueButtonBN visualizada':\n",
    "                lista_visualizada.append(linea[4])\n",
    "\n",
    "            if linea[2] == 'Grabación vista':\n",
    "                lista_grabacion.append(linea[4])\n",
    "                lista_usuarios.append(linea[1])\n",
    "\n",
    "        # Corroboro que la IP haya visto por lo menos una grabacion  y haya estado en una clase\n",
    "        for n in range(len(lista_grabacion)):\n",
    "            if (lista_grabacion[n] in lista_visualizada):\n",
    "                lista_verificada.append([lista_usuarios[n], ''])\n",
    "\n",
    "        return lista_verificada\n",
    "\n",
    "    def exportar_archivo(lista):\n",
    "        '''Genera un archivo y exporta la lista pasada como parametro'''\n",
    "        wb = openpyxl.Workbook()\n",
    "        hoja = wb.active\n",
    "        # Pasaje del encabezado\n",
    "        hoja.append(['Nombres'])\n",
    "        # Pasaje de datos\n",
    "        for prod in lista:\n",
    "            hoja.append(prod)\n",
    "        wb.save(\"BBB_Actualizado.csv\")\n",
    "\n",
    "    #_Main_#\n",
    "    lista = Filtrar()\n",
    "    exportar_archivo(lista)\n",
    "\n",
    "\n",
    "if __name__ == \"__main__\":\n",
    "    main()  \n"
   ]
  }
 ],
 "metadata": {
  "kernelspec": {
   "display_name": "Python 3 (ipykernel)",
   "language": "python",
   "name": "python3"
  },
  "language_info": {
   "codemirror_mode": {
    "name": "ipython",
    "version": 3
   },
   "file_extension": ".py",
   "mimetype": "text/x-python",
   "name": "python",
   "nbconvert_exporter": "python",
   "pygments_lexer": "ipython3",
   "version": "3.10.2"
  }
 },
 "nbformat": 4,
 "nbformat_minor": 5
}
