{
  "metadata": {
    "language_info": {
      "codemirror_mode": {
        "name": "python",
        "version": 3
      },
      "file_extension": ".py",
      "mimetype": "text/x-python",
      "name": "python",
      "nbconvert_exporter": "python",
      "pygments_lexer": "ipython3",
      "version": "3.8"
    },
    "kernelspec": {
      "name": "python",
      "display_name": "Pyolite",
      "language": "python"
    }
  },
  "nbformat_minor": 4,
  "nbformat": 4,
  "cells": [
    {
      "cell_type": "markdown",
      "source": "# Explicacion Ej10 Practica 2\n\n###  Enunciado\n    Como enunciado, teníamos el objetivo de manipular tres archivos.txt, el primero con los nombres de alumnos, el segundo con las notas de una evaluación y el tercero con las notas de otra evaluación.\n    \n    El principal objetivo del ejercicio era generar una estructura que contenga el nombre del alumno con la suma de ambas notas.\n    Por otro lado el segundo punto del enunciado pedia sacar un promedio común de las notas e informar que alumnos estaban por debajo del promedio. ",
      "metadata": {}
    },
    {
      "cell_type": "markdown",
      "source": "### División de Problemas\n> **Funciones** para facilitar la lectura y resolución del ejercício, dividí el problema en tres funciones:\n\n    1°-crearEstructura() Esta sería la encargada de manejar los tres archivos y crear la estructura de datos que luego se usara para sacar el promedio e informar los alumnos que esten por debajo. \n                                                                                                                                                             2°-promedio(list) Retorna el promedio común de todos los alumnos incluidos en la lista pasada como parametro.\n    \n    3°-informar(list,promedio) Recorre la lista pasada como parametro, devolviendo (en una nueva lista) los alumnos que no superen el promedio pasado como parametro.\n\n> Con estas tres funciones tendriamos el ejercicio terminado y tan solo quedaria imprimir los resultados de la funcion N°2 y 3.\n    ",
      "metadata": {}
    },
    {
      "cell_type": "markdown",
      "source": "### Estructura \n\n> **Lista con Tuplas Anidadas** era la mejor estructura para poder guardar estos datos, ya que estos valores no van a modificarse, solo se van a usar. \n                        Simplemente se lee de cada archivo el nombre y las notas,  suma las dos notas en una variable y agregar a la nueva lista la tupla como vemos a continuación:    ",
      "metadata": {}
    },
    {
      "cell_type": "code",
      "source": "def crearEstructura():\n    '''Retorna una lista con tuplas que tienen el nombre del alumno + la suma de sus dos notas'''\n    with open(\"Python-Actividades\\\\Entregas-Python-2022\\\\TrabajoPractico2\\\\nombres_1.txt\", encoding=\"utf8\") as archivo_nombres:\n        archN = archivo_nombres.read()\n    with open(\"Python-Actividades\\\\Entregas-Python-2022\\\\TrabajoPractico2\\\\eval1.txt\") as archivo_evaluacion1:\n        archE1 = archivo_evaluacion1.read()\n    with open(\"Python-Actividades\\\\Entregas-Python-2022\\\\TrabajoPractico2\\\\eval2.txt\") as archivo_evaluacion2:\n        archE2 = archivo_evaluacion2.read()\n\n    nombres = archN.replace(\",\", \"\").replace(\"'\", \"\").lower().split()\n    eva1 = archE1.replace(\",\", \"\").split()\n    eva2 = archE2.replace(\",\", \"\").split()\n\n    # listaAlum Append en tuplas con el Nombre, Merge de las dos notas\n    listaAlum = []\n    for n in range(len(nombres)):\n        nota = 0\n        nota += int(eva1[n])\n        nota += int(eva2[n])\n        listaAlum.append((nombres[n], nota))\n\n    archivo_nombres.close()\n    archivo_evaluacion1.close()\n    archivo_evaluacion2.close()\n    \n    return listaAlum",
      "metadata": {},
      "execution_count": null,
      "outputs": []
    },
    {
      "cell_type": "markdown",
      "source": "### Promedio\n\n> **Evitar Divided By Zero** se recorre la lista creada en la función anterior sumando la nota de todos los alumnos y despues se divide por la longitud de la lista (siempre y cuando no sea cero)",
      "metadata": {}
    },
    {
      "cell_type": "code",
      "source": "def promedio(listaA):\n    '''Retorna el promedio de la lista pasada como parametro'''\n    total = 0\n    promedio = 0\n    for n in range(len(listaA)):\n        total = total + listaA[n][1]\n\n    if total != 0:\n        promedio = total/len(listaA)\n    return promedio",
      "metadata": {},
      "execution_count": null,
      "outputs": []
    },
    {
      "cell_type": "markdown",
      "source": "### Informar\n\n> **Comparar** es una función sencilla, se recorre la lista pasada como parametro comparando si el valor es menor al promedio, entonces se agrega a la nueva lista. Lo único a resaltar es que cuando busco la nota del alumno me voy a la segunda posición de la tupla, ya que ahí es donde se guardo su nota (\"listaA[n][1]\"). ",
      "metadata": {}
    },
    {
      "cell_type": "code",
      "source": "def informar(listaA, prom):\n    '''Retorna una lista de nombres que no superaron el prom'''\n    lista = []\n    for n in range(len(listaA)):\n        if listaA[n][1] < prom:\n            lista.append(listaA[n])\n    return lista",
      "metadata": {},
      "execution_count": null,
      "outputs": []
    },
    {
      "cell_type": "markdown",
      "source": "### Program Main\n\n> **La ventaja del usar Funciones** como verás en el bloque a continuación solo se ejecutan esas dos lineas de código en el main del Python, todo lo demas lo hacen las funciones. Al invocarlas en el print con el format, ni siquiera se tiene que usar variables adicionales que lleven los valores a la función print. Esto permite una mayor legibilidad del código, primero informando el promedio general y luego imprimiendo las tuplas de la lista con el nombre y promedio de la gente que está por debajo del promedio común.",
      "metadata": {}
    },
    {
      "cell_type": "code",
      "source": "listaA = crearEstructura()\nprint(\n    f'El promedio de las notas es: {(\"{0:.2f}\".format(promedio(listaA)))}\\nLos alumnos por debajo del promedio son: {informar(listaA,promedio(listaA))}')",
      "metadata": {},
      "execution_count": null,
      "outputs": []
    },
    {
      "cell_type": "markdown",
      "source": "### Conclusión\n\nNo fue un Ejercicio difícil, creo que el objetivo era empezar a ver la manipulación de archivos, que justamente fue la mayor complicación que se me presento al momento de tener que leer los archivos, con el path (que me tiraba error porque solo tenia una \\ en lugar de dos) y el encoding= 'utf8' con el txt de nombres. Por lo que estuvo bueno para empezar a ver archivos.",
      "metadata": {}
    }
  ]
}